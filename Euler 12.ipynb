{
 "cells": [
  {
   "cell_type": "markdown",
   "metadata": {},
   "source": [
    "What is the value of the first triangle number to have over five hundred divisors?"
   ]
  },
  {
   "cell_type": "code",
   "execution_count": 4,
   "metadata": {
    "collapsed": false
   },
   "outputs": [],
   "source": [
    "def count_divisors(number):\n",
    "    counter = 0\n",
    "    current_divisor = 1\n",
    "    while current_divisor**2 < number:\n",
    "        if number % current_divisor == 0:\n",
    "            counter += 2\n",
    "        current_divisor += 1\n",
    "    if current_divisor ** 2 == number:\n",
    "        counter += 1\n",
    "    return counter"
   ]
  },
  {
   "cell_type": "code",
   "execution_count": 36,
   "metadata": {
    "collapsed": false,
    "scrolled": true
   },
   "outputs": [
    {
     "name": "stdout",
     "output_type": "stream",
     "text": [
      "(0, 0)\n",
      "(1, 1)\n",
      "(2, 2)\n",
      "(3, 2)\n",
      "(4, 3)\n",
      "(5, 2)\n",
      "(6, 4)\n",
      "(7, 2)\n",
      "(8, 4)\n",
      "(9, 3)\n",
      "(10, 4)\n",
      "(11, 2)\n",
      "(12, 6)\n",
      "(13, 2)\n",
      "(14, 4)\n",
      "(15, 4)\n",
      "(16, 5)\n",
      "(17, 2)\n",
      "(18, 6)\n",
      "(19, 2)\n",
      "(20, 6)\n",
      "(21, 4)\n",
      "(22, 4)\n",
      "(23, 2)\n",
      "(24, 8)\n",
      "(25, 3)\n",
      "(26, 4)\n",
      "(27, 4)\n",
      "(28, 6)\n",
      "(29, 2)\n",
      "(30, 8)\n",
      "(31, 2)\n",
      "(32, 6)\n",
      "(33, 4)\n",
      "(34, 4)\n",
      "(35, 4)\n",
      "(36, 9)\n",
      "(37, 2)\n",
      "(38, 4)\n",
      "(39, 4)\n",
      "(40, 8)\n",
      "(41, 2)\n",
      "(42, 8)\n",
      "(43, 2)\n",
      "(44, 6)\n",
      "(45, 6)\n",
      "(46, 4)\n",
      "(47, 2)\n",
      "(48, 10)\n",
      "(49, 3)\n",
      "(50, 6)\n",
      "(51, 4)\n",
      "(52, 6)\n",
      "(53, 2)\n",
      "(54, 8)\n",
      "(55, 4)\n",
      "(56, 8)\n",
      "(57, 4)\n",
      "(58, 4)\n",
      "(59, 2)\n",
      "(60, 12)\n",
      "(61, 2)\n",
      "(62, 4)\n",
      "(63, 6)\n",
      "(64, 7)\n",
      "(65, 4)\n",
      "(66, 8)\n",
      "(67, 2)\n",
      "(68, 6)\n",
      "(69, 4)\n",
      "(70, 8)\n",
      "(71, 2)\n",
      "(72, 12)\n",
      "(73, 2)\n",
      "(74, 4)\n",
      "(75, 6)\n",
      "(76, 6)\n",
      "(77, 4)\n",
      "(78, 8)\n",
      "(79, 2)\n",
      "(80, 10)\n",
      "(81, 5)\n",
      "(82, 4)\n",
      "(83, 2)\n",
      "(84, 12)\n",
      "(85, 4)\n",
      "(86, 4)\n",
      "(87, 4)\n",
      "(88, 8)\n",
      "(89, 2)\n",
      "(90, 12)\n",
      "(91, 4)\n",
      "(92, 6)\n",
      "(93, 4)\n",
      "(94, 4)\n",
      "(95, 4)\n",
      "(96, 12)\n",
      "(97, 2)\n",
      "(98, 6)\n",
      "(99, 6)\n"
     ]
    }
   ],
   "source": [
    "for number in range(100):\n",
    "    print (number, count_divisors(number))"
   ]
  },
  {
   "cell_type": "markdown",
   "metadata": {},
   "source": [
    "Notice that \n",
    "- 6 is the lowest number with 4 divisors, being the smallest number divisible by 2 and 3\n",
    "- 12 is the lowest number with 6 divisors, being the smallest number divisible by 2, 3 and 4\n",
    "- 60 is the lowest number with 12 divisors, being the smallest number divisible by 2, 3, 4 and 5\n",
    "- multiples of these numbers all have many factors for their size\n",
    "- nearby numbers have about 50% as many factors\n",
    "\n",
    "Hypothesise\n",
    "- the smallest (triangle) number with > 500 factors will be divisible by 2, 3, 4, 5 ,6 and 7"
   ]
  },
  {
   "cell_type": "code",
   "execution_count": 30,
   "metadata": {
    "collapsed": true
   },
   "outputs": [],
   "source": [
    "def generate_triangle_number(number_of_triangle_numbers):\n",
    "    current_triangle_number = 0\n",
    "    triangle_number_count = 0\n",
    "    for _ in range(number_of_triangle_numbers):\n",
    "        triangle_number_count += 1\n",
    "        current_triangle_number += triangle_number_count\n",
    "        yield current_triangle_number"
   ]
  },
  {
   "cell_type": "code",
   "execution_count": 45,
   "metadata": {
    "collapsed": false
   },
   "outputs": [
    {
     "name": "stdout",
     "output_type": "stream",
     "text": [
      "Answer is 76576500\n",
      "Problem solved in 0.0984289646149 seconds\n"
     ]
    }
   ],
   "source": [
    "import time\n",
    "\n",
    "start = time.time()\n",
    "\n",
    "number_of_triangle_numbers = 1000000\n",
    "for triangle_number in generate_triangle_number(number_of_triangle_numbers):\n",
    "    if triangle_number % 4620 == 0:\n",
    "        if count_divisors(triangle_number) > 500:\n",
    "            print 'Answer is', triangle_number\n",
    "            break\n",
    "\n",
    "end = time.time()\n",
    "print 'Problem solved in', end - start, 'seconds'"
   ]
  },
  {
   "cell_type": "code",
   "execution_count": 43,
   "metadata": {
    "collapsed": false
   },
   "outputs": [
    {
     "data": {
      "text/plain": [
       "576"
      ]
     },
     "execution_count": 43,
     "metadata": {},
     "output_type": "execute_result"
    }
   ],
   "source": [
    "count_divisors(76576500)"
   ]
  },
  {
   "cell_type": "code",
   "execution_count": null,
   "metadata": {
    "collapsed": true
   },
   "outputs": [],
   "source": []
  }
 ],
 "metadata": {
  "kernelspec": {
   "display_name": "Python 2",
   "language": "python",
   "name": "python2"
  },
  "language_info": {
   "codemirror_mode": {
    "name": "ipython",
    "version": 2
   },
   "file_extension": ".py",
   "mimetype": "text/x-python",
   "name": "python",
   "nbconvert_exporter": "python",
   "pygments_lexer": "ipython2",
   "version": "2.7.11"
  }
 },
 "nbformat": 4,
 "nbformat_minor": 0
}
