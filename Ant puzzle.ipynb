{
 "cells": [
  {
   "cell_type": "markdown",
   "metadata": {},
   "source": [
    "# Problem \n",
    "There is a D-dimensional cube and an ant is performing a random walk on the edges where it can select any of the D adjoining vertices with equal probability. What is the expected number of steps it needs till it reaches the diagonally opposite vertex?"
   ]
  },
  {
   "cell_type": "markdown",
   "metadata": {},
   "source": [
    "## Analysis"
   ]
  },
  {
   "cell_type": "markdown",
   "metadata": {},
   "source": [
    "Group the vertices of the cube according to the number of steps they are away from the destination\n",
    "- Group 1 is the starting vertex, D steps from the destination\n",
    "- Group 2 contains all vertices that are D-1 steps from the destination ...\n",
    "- Group D contains all vertices that are 1 steps from the destination \n",
    "- Group D+1 is the destination vertex\n",
    "The question becomes \"What's the expected number of steps to move from Group 1 to Group D+1?\""
   ]
  },
  {
   "cell_type": "markdown",
   "metadata": {},
   "source": [
    "Suppose the ant is at a vertex in Group i and takes a step. Then\n",
    "- the ant finishes in Group i-1 or Group i+1\n",
    "- the probability of each outcome is independent of which vertex, within Group i, the ant is at. This means we don't have to keep track of the exact vertex of the ant, only its Group."
   ]
  },
  {
   "cell_type": "markdown",
   "metadata": {},
   "source": [
    "Terminology\n",
    "- prob[i] is the probability of a step that starts in Group i ends in Group i+1 (so the probability of it ending in Group i-1 is 1-prob[i])\n",
    "- exp_steps[i] is the expected number of steps to move from Group i to Group i+1\n",
    "- total_exp_steps is the expected number of steps to move from Group 1 to Group D+1 on a D-dimensional cube"
   ]
  },
  {
   "cell_type": "markdown",
   "metadata": {},
   "source": [
    "Maths. For a D-dimensional cube:\n",
    "- prob[i] = (D + 1 - i)/D\n",
    "- exp_steps[1] = 1\n",
    "- exp_steps[(i+1)] = 1 + (1+ exp_steps[i]) * ( (1- prob[i])/prob[i] )\n",
    "- total_exp_steps = SUM{exp_steps[i]} from i=1 to i=D\n",
    "\n",
    "Notice that we calcualte prob[i] directly and exp_steps[i] recursively. I don't prove these claims here."
   ]
  },
  {
   "cell_type": "code",
   "execution_count": null,
   "metadata": {
    "collapsed": true
   },
   "outputs": [],
   "source": []
  },
  {
   "cell_type": "code",
   "execution_count": 19,
   "metadata": {
    "collapsed": true
   },
   "outputs": [],
   "source": [
    "def get_step_probabilities(D):\n",
    "    \"\"\"\n",
    "    Returns a dictionary d such that d['i'] = the probability a step that starts in Group i \n",
    "    finishes in Group i+1.\n",
    "    \n",
    "    D is the dimension of the cube.\n",
    "    \"\"\"\n",
    "    prob = {}\n",
    "    for group in range(1, D+1):\n",
    "        prob['{}'.format(group)] = (D + 1 - group)/float(D)\n",
    "    return prob"
   ]
  },
  {
   "cell_type": "code",
   "execution_count": 26,
   "metadata": {
    "collapsed": false
   },
   "outputs": [
    {
     "data": {
      "text/plain": [
       "{'1': 1.0, '2': 0.6666666666666666, '3': 0.3333333333333333}"
      ]
     },
     "execution_count": 26,
     "metadata": {},
     "output_type": "execute_result"
    }
   ],
   "source": [
    "prob_3 = get_step_probabilities(3)\n",
    "prob_3"
   ]
  },
  {
   "cell_type": "code",
   "execution_count": 33,
   "metadata": {
    "collapsed": true
   },
   "outputs": [],
   "source": [
    "def expected_steps_from_step_probabilities(prob, D):\n",
    "    \"\"\"\n",
    "    Returns a dictionary d such that d['i'] = the expected number of steps to move from \n",
    "    Group i to Group i+1.\n",
    "    \n",
    "    prob['i'] = the probability a step that starts in Group i finishes in Group i+1.\n",
    "    D is the dimension of the cube.\n",
    "    \"\"\"\n",
    "    exp_steps = {}\n",
    "    exp_steps['1'] = 1\n",
    "    for group in range(2, D+1):\n",
    "        prob_step_forward = prob['{}'.format(group)]\n",
    "        exp_steps['{}'.format(group)] = 1 + (1 + exp_steps['{}'.format(group-1)])*(1-prob_step_forward)/float(prob_step_forward)\n",
    "    return exp_steps"
   ]
  },
  {
   "cell_type": "code",
   "execution_count": 35,
   "metadata": {
    "collapsed": false
   },
   "outputs": [
    {
     "data": {
      "text/plain": [
       "{'1': 1, '2': 2.0, '3': 7.0}"
      ]
     },
     "execution_count": 35,
     "metadata": {},
     "output_type": "execute_result"
    }
   ],
   "source": [
    "exp_steps_3 = expected_steps_from_step_probabilities(prob_3, 3)\n",
    "exp_steps_3"
   ]
  },
  {
   "cell_type": "code",
   "execution_count": 38,
   "metadata": {
    "collapsed": true
   },
   "outputs": [],
   "source": [
    "def total_expected_steps_from_expected_steps(exp_steps):\n",
    "    \"\"\"\n",
    "    exp_steps['i'] = the expected number of steps to move from Group i to Group i+1.\n",
    "    Returns the expected number of steps to move from Group 1 to Group D+1.\n",
    "    \"\"\"\n",
    "    return sum(exp_steps.values())"
   ]
  },
  {
   "cell_type": "code",
   "execution_count": 39,
   "metadata": {
    "collapsed": false
   },
   "outputs": [
    {
     "data": {
      "text/plain": [
       "10.0"
      ]
     },
     "execution_count": 39,
     "metadata": {},
     "output_type": "execute_result"
    }
   ],
   "source": [
    "total_expected_steps_from_expected_steps(exp_steps_3)"
   ]
  },
  {
   "cell_type": "code",
   "execution_count": 49,
   "metadata": {
    "collapsed": true
   },
   "outputs": [],
   "source": [
    "def get_total_expected_steps(D, verbose=False):\n",
    "    \"\"\"\n",
    "    Returns the expected steps to move from one vertex of a D-dimensional cube to the opposite vertex.\n",
    "    \"\"\"\n",
    "    prob = get_step_probabilities(D)\n",
    "    exp_steps = expected_steps_from_step_probabilities(prob, D)\n",
    "    total_exp_steps = total_expected_steps_from_expected_steps(exp_steps)\n",
    "    if verbose:\n",
    "        print 'Step probabilities are', prob\n",
    "        print 'Expected steps are', exp_steps\n",
    "    return total_exp_steps"
   ]
  },
  {
   "cell_type": "code",
   "execution_count": 50,
   "metadata": {
    "collapsed": false
   },
   "outputs": [
    {
     "name": "stdout",
     "output_type": "stream",
     "text": [
      "Step probabilities are {'1': 1.0, '3': 0.5, '2': 0.75, '4': 0.25}\n",
      "Expected steps are {'1': 1, '3': 3.6666666666666665, '2': 1.6666666666666665, '4': 14.999999999999998}\n"
     ]
    },
    {
     "data": {
      "text/plain": [
       "21.33333333333333"
      ]
     },
     "execution_count": 50,
     "metadata": {},
     "output_type": "execute_result"
    }
   ],
   "source": [
    "get_total_expected_steps(4, True)"
   ]
  },
  {
   "cell_type": "code",
   "execution_count": 51,
   "metadata": {
    "collapsed": false
   },
   "outputs": [
    {
     "name": "stdout",
     "output_type": "stream",
     "text": [
      "Step probabilities are {'1': 1.0, '3': 0.3333333333333333, '2': 0.6666666666666666}\n",
      "Expected steps are {'1': 1, '3': 7.0, '2': 2.0}\n"
     ]
    },
    {
     "data": {
      "text/plain": [
       "10.0"
      ]
     },
     "execution_count": 51,
     "metadata": {},
     "output_type": "execute_result"
    }
   ],
   "source": [
    "get_total_expected_steps(3, True)"
   ]
  },
  {
   "cell_type": "code",
   "execution_count": 53,
   "metadata": {
    "collapsed": false
   },
   "outputs": [
    {
     "data": {
      "text/plain": [
       "1.6666666666666665"
      ]
     },
     "execution_count": 53,
     "metadata": {},
     "output_type": "execute_result"
    }
   ],
   "source": [
    "1 + (1 + 1)*(0.25/0.75)"
   ]
  },
  {
   "cell_type": "code",
   "execution_count": null,
   "metadata": {
    "collapsed": true
   },
   "outputs": [],
   "source": []
  }
 ],
 "metadata": {
  "kernelspec": {
   "display_name": "Python 2",
   "language": "python",
   "name": "python2"
  },
  "language_info": {
   "codemirror_mode": {
    "name": "ipython",
    "version": 2
   },
   "file_extension": ".py",
   "mimetype": "text/x-python",
   "name": "python",
   "nbconvert_exporter": "python",
   "pygments_lexer": "ipython2",
   "version": "2.7.11"
  }
 },
 "nbformat": 4,
 "nbformat_minor": 0
}
