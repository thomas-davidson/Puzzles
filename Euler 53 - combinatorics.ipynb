{
 "cells": [
  {
   "cell_type": "markdown",
   "metadata": {},
   "source": [
    "# Statement\n",
    "How many distinct pairs of n, x are there such that\n",
    "- n <= 100\n",
    "- nCx > 1,000,000"
   ]
  },
  {
   "cell_type": "markdown",
   "metadata": {},
   "source": [
    "Strategy\n",
    "I give three solutions that are increasingly computationally efficient, then generalise the most efficient solution.\n",
    "First I solve the problem by brute force.\n",
    "Second I use symmetry cosiderations to reduce the number of calcuations required.\n",
    "Lastly I cache calculations that are otherwise repeated.\n"
   ]
  },
  {
   "cell_type": "code",
   "execution_count": 2,
   "metadata": {
    "collapsed": true
   },
   "outputs": [],
   "source": [
    "def factorial(num):\n",
    "    total = 1\n",
    "    for n in range(1, num + 1):\n",
    "        total = n*total\n",
    "    return total"
   ]
  },
  {
   "cell_type": "code",
   "execution_count": 15,
   "metadata": {
    "collapsed": true
   },
   "outputs": [],
   "source": [
    "def choose(n, x):\n",
    "    return float(factorial(n))/(factorial(x)*factorial(n - x))"
   ]
  },
  {
   "cell_type": "markdown",
   "metadata": {},
   "source": [
    "# Brute force solution"
   ]
  },
  {
   "cell_type": "code",
   "execution_count": 76,
   "metadata": {
    "collapsed": false
   },
   "outputs": [
    {
     "name": "stdout",
     "output_type": "stream",
     "text": [
      "4075\n",
      "Calucaltion time:  0.124512195587  seconds\n"
     ]
    }
   ],
   "source": [
    "start = time.time()\n",
    "count = 0\n",
    "for n in range(1, 101):\n",
    "    for x in range(1, n+1):\n",
    "        if choose(n,x) > 1000000:\n",
    "            count += 1\n",
    "print count\n",
    "end = time.time()\n",
    "print 'Calucaltion time: ', end - start, ' seconds'"
   ]
  },
  {
   "cell_type": "markdown",
   "metadata": {},
   "source": [
    "# Reduce calculations using maths"
   ]
  },
  {
   "cell_type": "code",
   "execution_count": 22,
   "metadata": {
    "collapsed": false
   },
   "outputs": [
    {
     "name": "stdout",
     "output_type": "stream",
     "text": [
      "The lowest number with a factorial over 1 million is  11\n"
     ]
    }
   ],
   "source": [
    "# Find lowest factorial over 1 million\n",
    "i = 5\n",
    "while highest < 1000000:\n",
    "    highest = factorial(i)\n",
    "    i += 1\n",
    "print 'The lowest number with a factorial over 1 million is ', i"
   ]
  },
  {
   "cell_type": "markdown",
   "metadata": {},
   "source": [
    "Time saving insights:\n",
    "- 3<x<n-3 in any eligible pair, as nC3<n^3 and 100^3=1000000\n",
    "- No need to check for x>n/2, due to symmetry of choose function. \n",
    "- Check all x up to and including n/2: if n is even n/2 is the middle \n",
    "value; if n is odd this checks up to n/2 - 1 as python rounds down"
   ]
  },
  {
   "cell_type": "code",
   "execution_count": 79,
   "metadata": {
    "collapsed": false
   },
   "outputs": [
    {
     "name": "stdout",
     "output_type": "stream",
     "text": [
      "The answer is  4075\n",
      "Calucaltion time:  0.0660591125488  seconds\n"
     ]
    }
   ],
   "source": [
    "start = time.time()\n",
    "count = 0\n",
    "for n in range(11, 101):\n",
    "    for x in range(3, (n/2 + 1) ):\n",
    "        if choose(n,x) > 1000000:\n",
    "            count += 2 # For solution (n, x), (n, n-x) is another solution...\n",
    "            if x == n/float(2): #...unless x is the middle value\n",
    "                count -= 1\n",
    "print 'The answer is ', count\n",
    "end = time.time()\n",
    "print 'Calucaltion time: ', end - start, ' seconds'"
   ]
  },
  {
   "cell_type": "markdown",
   "metadata": {},
   "source": [
    "# Store factorials in dictionary to reduce need for recalculation"
   ]
  },
  {
   "cell_type": "markdown",
   "metadata": {},
   "source": [
    "We know that we'll need every factorial from 3 to 100, and reuse many of\n",
    "these factorials many times. So we can save time by calculating them all\n",
    "in advance and storing them in a dictionary"
   ]
  },
  {
   "cell_type": "code",
   "execution_count": 104,
   "metadata": {
    "collapsed": false
   },
   "outputs": [
    {
     "name": "stdout",
     "output_type": "stream",
     "text": [
      "The answer is  4075\n",
      "Calucaltion time:  0.0102300643921  seconds\n"
     ]
    }
   ],
   "source": [
    "start = time.time()\n",
    "count = 0\n",
    "# Calculate factorials in advance\n",
    "factorial_dict = {}\n",
    "for num in range(3, 101):\n",
    "    factorial_dict[num] = factorial(num)\n",
    "\n",
    "# Execute function as before, but calculating choose(n,x) from the dictionary\n",
    "for n in range(11, 101):\n",
    "    for x in range(3, (n/2 + 1) ):\n",
    "        if float(factorial_dict[n])/(factorial_dict[x]*factorial_dict[n-x]) > 1000000:\n",
    "            count += 2 # For solution (n, x), (n, n-x) is another solution...\n",
    "            if x == n/float(2): #...unless x is the middle value\n",
    "                count -= 1\n",
    "print 'The answer is ', count\n",
    "end = time.time()\n",
    "print 'Calucaltion time: ', end - start, ' seconds'\n",
    "\n"
   ]
  },
  {
   "cell_type": "markdown",
   "metadata": {},
   "source": [
    "# Generalise solution for arbitary n, nCx "
   ]
  },
  {
   "cell_type": "markdown",
   "metadata": {},
   "source": [
    "Our dictionary use relied on us knowing n in advance. We now write a function for arbitary n and arbitary minumum value of nCx. We also calculate the factorials as we go; this is more elegant."
   ]
  },
  {
   "cell_type": "code",
   "execution_count": 107,
   "metadata": {
    "collapsed": true
   },
   "outputs": [],
   "source": [
    "def count_factorials(n_max, nCx_min):  \n",
    "    start = time.time()\n",
    "    count = 0\n",
    "    factorial_dict = {}\n",
    "    factorial_dict[0] = 1 # If nCx_min<1, nC0 is a solution\n",
    "    \n",
    "    for n in range(1, n_max + 1): # For arbitary nCx_min, consider all values of n\n",
    "        factorial_dict[n] = factorial(n) # Calculate factorials as we go\n",
    "        for x in range(0, (n/2 + 1) ):\n",
    "            if float(factorial_dict[n])/(factorial_dict[x]*factorial_dict[n-x]) > nCx_min:\n",
    "                count += 2 # For solution (n, x), (n, n-x) is another solution...\n",
    "                if x == n/float(2): #...unless x is the middle value\n",
    "                    count -= 1\n",
    "    print 'The answer is ', count\n",
    "    end = time.time()\n",
    "    print 'Calucaltion time: ', end - start, ' seconds'"
   ]
  },
  {
   "cell_type": "code",
   "execution_count": 108,
   "metadata": {
    "collapsed": false
   },
   "outputs": [
    {
     "name": "stdout",
     "output_type": "stream",
     "text": [
      "The answer is  4075\n",
      "Calucaltion time:  0.00822401046753  seconds\n"
     ]
    }
   ],
   "source": [
    "count_factorials(100, 1000000)"
   ]
  },
  {
   "cell_type": "code",
   "execution_count": null,
   "metadata": {
    "collapsed": true
   },
   "outputs": [],
   "source": []
  }
 ],
 "metadata": {
  "kernelspec": {
   "display_name": "Python 2",
   "language": "python",
   "name": "python2"
  },
  "language_info": {
   "codemirror_mode": {
    "name": "ipython",
    "version": 2
   },
   "file_extension": ".py",
   "mimetype": "text/x-python",
   "name": "python",
   "nbconvert_exporter": "python",
   "pygments_lexer": "ipython2",
   "version": "2.7.11"
  }
 },
 "nbformat": 4,
 "nbformat_minor": 0
}
